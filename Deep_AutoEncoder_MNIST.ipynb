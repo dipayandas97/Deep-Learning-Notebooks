{
  "nbformat": 4,
  "nbformat_minor": 0,
  "metadata": {
    "colab": {
      "name": "Deep_AutoEncoder_MNIST.ipynb",
      "version": "0.3.2",
      "provenance": [],
      "include_colab_link": true
    },
    "kernelspec": {
      "name": "python3",
      "display_name": "Python 3"
    }
  },
  "cells": [
    {
      "cell_type": "markdown",
      "metadata": {
        "id": "view-in-github",
        "colab_type": "text"
      },
      "source": [
        "<a href=\"https://colab.research.google.com/github/dipayandas97/Keras_Notebook/blob/master/Deep_AutoEncoder_MNIST.ipynb\" target=\"_parent\"><img src=\"https://colab.research.google.com/assets/colab-badge.svg\" alt=\"Open In Colab\"/></a>"
      ]
    },
    {
      "cell_type": "code",
      "metadata": {
        "id": "aDjl2L6L0ZyB",
        "colab_type": "code",
        "colab": {
          "base_uri": "https://localhost:8080/",
          "height": 34
        },
        "outputId": "b241937b-1ad1-43c3-8b48-8a8fe5a17297"
      },
      "source": [
        "from keras.layers import Input, Dense\n",
        "from keras.models import Model\n",
        "from keras import regularizers\n"
      ],
      "execution_count": 1,
      "outputs": [
        {
          "output_type": "stream",
          "text": [
            "Using TensorFlow backend.\n"
          ],
          "name": "stderr"
        }
      ]
    },
    {
      "cell_type": "code",
      "metadata": {
        "id": "q_2S8VGD1E4t",
        "colab_type": "code",
        "colab": {}
      },
      "source": [
        "encoding_dim = 2\n",
        "\n",
        "input_img = Input(shape=(784,))\n",
        "\n",
        "#encoded = Dense(128, activation = 'relu',\n",
        "#               activity_regularizer = regularizers.l1(10e-5))(input_img)\n",
        "\n",
        "encoded = Dense(128, activation = 'relu')(input_img)\n",
        "encoded = Dense(64, activation = 'relu')(encoded)\n",
        "encoded = Dense(32, activation = 'relu')(encoded)\n",
        "encoded = Dense(16, activation = 'relu')(encoded)\n",
        "encoded = Dense(8, activation = 'relu')(encoded)\n",
        "#encoded = Dense(encoding_dim, activation = 'relu')(encoded)\n",
        "\n",
        "#decoded = Dense(8, activation = 'relu')(encoded)\n",
        "decoded = Dense(16, activation = 'relu')(encoded)\n",
        "decoded = Dense(32, activation = 'relu')(decoded)\n",
        "decoded = Dense(64, activation = 'relu')(decoded)\n",
        "decoded = Dense(128, activation = 'relu')(decoded)\n",
        "decoded = Dense(784, activation = 'sigmoid')(decoded)\n",
        "\n",
        "autoencoder = Model(input_img, decoded)\n"
      ],
      "execution_count": 0,
      "outputs": []
    },
    {
      "cell_type": "code",
      "metadata": {
        "id": "YgteyUiz2kR5",
        "colab_type": "code",
        "colab": {
          "base_uri": "https://localhost:8080/",
          "height": 510
        },
        "outputId": "7bca9771-c9e3-4dd0-9f2e-0d614826514d"
      },
      "source": [
        "autoencoder.compile(optimizer = 'adadelta', loss = 'binary_crossentropy', metrics = ['accuracy'])\n",
        "autoencoder.summary()\n"
      ],
      "execution_count": 67,
      "outputs": [
        {
          "output_type": "stream",
          "text": [
            "_________________________________________________________________\n",
            "Layer (type)                 Output Shape              Param #   \n",
            "=================================================================\n",
            "input_25 (InputLayer)        (None, 784)               0         \n",
            "_________________________________________________________________\n",
            "dense_107 (Dense)            (None, 128)               100480    \n",
            "_________________________________________________________________\n",
            "dense_108 (Dense)            (None, 64)                8256      \n",
            "_________________________________________________________________\n",
            "dense_109 (Dense)            (None, 32)                2080      \n",
            "_________________________________________________________________\n",
            "dense_110 (Dense)            (None, 16)                528       \n",
            "_________________________________________________________________\n",
            "dense_111 (Dense)            (None, 8)                 136       \n",
            "_________________________________________________________________\n",
            "dense_112 (Dense)            (None, 16)                144       \n",
            "_________________________________________________________________\n",
            "dense_113 (Dense)            (None, 32)                544       \n",
            "_________________________________________________________________\n",
            "dense_114 (Dense)            (None, 64)                2112      \n",
            "_________________________________________________________________\n",
            "dense_115 (Dense)            (None, 128)               8320      \n",
            "_________________________________________________________________\n",
            "dense_116 (Dense)            (None, 784)               101136    \n",
            "=================================================================\n",
            "Total params: 223,736\n",
            "Trainable params: 223,736\n",
            "Non-trainable params: 0\n",
            "_________________________________________________________________\n"
          ],
          "name": "stdout"
        }
      ]
    },
    {
      "cell_type": "code",
      "metadata": {
        "id": "5C7spheCEYEr",
        "colab_type": "code",
        "colab": {
          "base_uri": "https://localhost:8080/",
          "height": 34
        },
        "outputId": "73cac09d-ee59-4c11-eca8-8fff67b55af9"
      },
      "source": [
        "autoencoder.layers[6].input_shape"
      ],
      "execution_count": 68,
      "outputs": [
        {
          "output_type": "execute_result",
          "data": {
            "text/plain": [
              "(None, 8)"
            ]
          },
          "metadata": {
            "tags": []
          },
          "execution_count": 68
        }
      ]
    },
    {
      "cell_type": "code",
      "metadata": {
        "colab_type": "code",
        "id": "0M4TE5mqHsgd",
        "colab": {}
      },
      "source": [
        "#encoder =  Model(input_img, encoded)\n",
        "\n",
        "#encoded_inp = Input(shape=(8,))\n",
        "#decoding_layers = autoencoder.layers[6:]\n",
        "\n",
        "#decoder = Model(encoded_inp, decoding_layers[6:](encoded_inp))"
      ],
      "execution_count": 0,
      "outputs": []
    },
    {
      "cell_type": "code",
      "metadata": {
        "id": "fDfEgMhA20xQ",
        "colab_type": "code",
        "colab": {
          "base_uri": "https://localhost:8080/",
          "height": 34
        },
        "outputId": "85205e6f-54cd-4744-bfe0-f5c139032985"
      },
      "source": [
        "from keras.datasets import mnist\n",
        "import numpy as np\n",
        "import matplotlib.pyplot as plt\n",
        "\n",
        "(X_train,_),(X_test,_) = mnist.load_data()\n",
        "len(X_train)"
      ],
      "execution_count": 70,
      "outputs": [
        {
          "output_type": "execute_result",
          "data": {
            "text/plain": [
              "60000"
            ]
          },
          "metadata": {
            "tags": []
          },
          "execution_count": 70
        }
      ]
    },
    {
      "cell_type": "code",
      "metadata": {
        "id": "YMJhGMz13QCR",
        "colab_type": "code",
        "colab": {
          "base_uri": "https://localhost:8080/",
          "height": 51
        },
        "outputId": "ac941a94-a27a-4951-ead3-788d3b5ace5a"
      },
      "source": [
        "\n",
        "X_train = X_train.astype('float32') / 255\n",
        "X_test = X_test.astype('float32') / 255\n",
        "\n",
        "X_train = X_train.reshape((len(X_train),np.prod(X_train.shape[1:])))\n",
        "X_test = X_test.reshape((len(X_test),np.prod(X_test.shape[1:])))\n",
        "print(X_train.shape)\n",
        "print(X_test.shape)"
      ],
      "execution_count": 71,
      "outputs": [
        {
          "output_type": "stream",
          "text": [
            "(60000, 784)\n",
            "(10000, 784)\n"
          ],
          "name": "stdout"
        }
      ]
    },
    {
      "cell_type": "code",
      "metadata": {
        "id": "m1Kdm33l34hI",
        "colab_type": "code",
        "colab": {
          "base_uri": "https://localhost:8080/",
          "height": 1000
        },
        "outputId": "61b9a43d-6735-4f23-f731-7fdc238eb8a2"
      },
      "source": [
        "autoencoder.fit(X_train, X_train,\n",
        "               epochs = 50,\n",
        "               batch_size = 256,\n",
        "               shuffle = True,\n",
        "               validation_data = (X_test, X_test),\n",
        "               verbose = 2)"
      ],
      "execution_count": 72,
      "outputs": [
        {
          "output_type": "stream",
          "text": [
            "Train on 60000 samples, validate on 10000 samples\n",
            "Epoch 1/50\n",
            " - 7s - loss: 0.4092 - acc: 0.7490 - val_loss: 0.2606 - val_acc: 0.7947\n",
            "Epoch 2/50\n",
            " - 6s - loss: 0.2545 - acc: 0.7959 - val_loss: 0.2546 - val_acc: 0.7945\n",
            "Epoch 3/50\n",
            " - 6s - loss: 0.2520 - acc: 0.7977 - val_loss: 0.2525 - val_acc: 0.7927\n",
            "Epoch 4/50\n",
            " - 6s - loss: 0.2513 - acc: 0.7982 - val_loss: 0.2511 - val_acc: 0.7983\n",
            "Epoch 5/50\n",
            " - 6s - loss: 0.2506 - acc: 0.7985 - val_loss: 0.2508 - val_acc: 0.7936\n",
            "Epoch 6/50\n",
            " - 6s - loss: 0.2497 - acc: 0.7946 - val_loss: 0.2454 - val_acc: 0.7975\n",
            "Epoch 7/50\n",
            " - 6s - loss: 1.1691 - acc: 0.7689 - val_loss: 2.9241 - val_acc: 0.7346\n",
            "Epoch 8/50\n",
            " - 6s - loss: 2.9186 - acc: 0.7353 - val_loss: 2.9241 - val_acc: 0.7346\n",
            "Epoch 9/50\n",
            " - 6s - loss: 2.9186 - acc: 0.7353 - val_loss: 2.9241 - val_acc: 0.7346\n",
            "Epoch 10/50\n",
            " - 6s - loss: 2.9186 - acc: 0.7353 - val_loss: 2.9241 - val_acc: 0.7346\n",
            "Epoch 11/50\n",
            " - 6s - loss: 2.9186 - acc: 0.7353 - val_loss: 2.9241 - val_acc: 0.7346\n",
            "Epoch 12/50\n",
            " - 6s - loss: 2.9186 - acc: 0.7353 - val_loss: 2.9241 - val_acc: 0.7346\n",
            "Epoch 13/50\n",
            " - 6s - loss: 2.9186 - acc: 0.7353 - val_loss: 2.9241 - val_acc: 0.7346\n",
            "Epoch 14/50\n",
            " - 6s - loss: 2.9186 - acc: 0.7353 - val_loss: 2.9241 - val_acc: 0.7346\n",
            "Epoch 15/50\n",
            " - 6s - loss: 2.9186 - acc: 0.7353 - val_loss: 2.9241 - val_acc: 0.7346\n",
            "Epoch 16/50\n",
            " - 6s - loss: 2.9186 - acc: 0.7353 - val_loss: 2.9241 - val_acc: 0.7346\n",
            "Epoch 17/50\n",
            " - 6s - loss: 2.9186 - acc: 0.7353 - val_loss: 2.9241 - val_acc: 0.7346\n",
            "Epoch 18/50\n",
            " - 6s - loss: 2.9186 - acc: 0.7353 - val_loss: 2.9241 - val_acc: 0.7346\n",
            "Epoch 19/50\n",
            " - 6s - loss: 2.9186 - acc: 0.7353 - val_loss: 2.9241 - val_acc: 0.7346\n",
            "Epoch 20/50\n",
            " - 6s - loss: 2.9186 - acc: 0.7353 - val_loss: 2.9241 - val_acc: 0.7346\n",
            "Epoch 21/50\n",
            " - 6s - loss: 2.9186 - acc: 0.7353 - val_loss: 2.9241 - val_acc: 0.7346\n",
            "Epoch 22/50\n",
            " - 6s - loss: 2.9186 - acc: 0.7353 - val_loss: 2.9241 - val_acc: 0.7346\n",
            "Epoch 23/50\n",
            " - 6s - loss: 2.9186 - acc: 0.7353 - val_loss: 2.9241 - val_acc: 0.7346\n",
            "Epoch 24/50\n",
            " - 6s - loss: 2.9186 - acc: 0.7353 - val_loss: 2.9241 - val_acc: 0.7346\n",
            "Epoch 25/50\n",
            " - 6s - loss: 2.9186 - acc: 0.7353 - val_loss: 2.9241 - val_acc: 0.7346\n",
            "Epoch 26/50\n",
            " - 6s - loss: 2.9186 - acc: 0.7353 - val_loss: 2.9241 - val_acc: 0.7346\n",
            "Epoch 27/50\n",
            " - 6s - loss: 2.9186 - acc: 0.7353 - val_loss: 2.9241 - val_acc: 0.7346\n",
            "Epoch 28/50\n",
            " - 6s - loss: 2.9186 - acc: 0.7353 - val_loss: 2.9241 - val_acc: 0.7346\n",
            "Epoch 29/50\n",
            " - 6s - loss: 2.9186 - acc: 0.7353 - val_loss: 2.9241 - val_acc: 0.7346\n",
            "Epoch 30/50\n",
            " - 6s - loss: 2.9186 - acc: 0.7353 - val_loss: 2.9241 - val_acc: 0.7346\n",
            "Epoch 31/50\n",
            " - 6s - loss: 2.9186 - acc: 0.7353 - val_loss: 2.9241 - val_acc: 0.7346\n",
            "Epoch 32/50\n",
            " - 6s - loss: 2.9186 - acc: 0.7353 - val_loss: 2.9241 - val_acc: 0.7346\n",
            "Epoch 33/50\n",
            " - 6s - loss: 2.9186 - acc: 0.7353 - val_loss: 2.9241 - val_acc: 0.7346\n",
            "Epoch 34/50\n",
            " - 6s - loss: 2.9186 - acc: 0.7353 - val_loss: 2.9241 - val_acc: 0.7346\n",
            "Epoch 35/50\n",
            " - 6s - loss: 2.9186 - acc: 0.7353 - val_loss: 2.9241 - val_acc: 0.7346\n",
            "Epoch 36/50\n",
            " - 6s - loss: 2.9186 - acc: 0.7353 - val_loss: 2.9241 - val_acc: 0.7346\n",
            "Epoch 37/50\n",
            " - 6s - loss: 2.9186 - acc: 0.7353 - val_loss: 2.9241 - val_acc: 0.7346\n",
            "Epoch 38/50\n",
            " - 6s - loss: 2.9186 - acc: 0.7353 - val_loss: 2.9241 - val_acc: 0.7346\n",
            "Epoch 39/50\n",
            " - 6s - loss: 2.9186 - acc: 0.7353 - val_loss: 2.9241 - val_acc: 0.7346\n",
            "Epoch 40/50\n",
            " - 6s - loss: 2.9186 - acc: 0.7353 - val_loss: 2.9241 - val_acc: 0.7346\n",
            "Epoch 41/50\n",
            " - 6s - loss: 2.9186 - acc: 0.7353 - val_loss: 2.9241 - val_acc: 0.7346\n",
            "Epoch 42/50\n",
            " - 6s - loss: 2.9186 - acc: 0.7353 - val_loss: 2.9241 - val_acc: 0.7346\n",
            "Epoch 43/50\n",
            " - 6s - loss: 2.9186 - acc: 0.7353 - val_loss: 2.9241 - val_acc: 0.7346\n",
            "Epoch 44/50\n",
            " - 6s - loss: 2.9186 - acc: 0.7353 - val_loss: 2.9241 - val_acc: 0.7346\n",
            "Epoch 45/50\n",
            " - 6s - loss: 2.9186 - acc: 0.7353 - val_loss: 2.9241 - val_acc: 0.7346\n",
            "Epoch 46/50\n",
            " - 6s - loss: 2.9186 - acc: 0.7353 - val_loss: 2.9241 - val_acc: 0.7346\n",
            "Epoch 47/50\n",
            " - 6s - loss: 2.9186 - acc: 0.7353 - val_loss: 2.9241 - val_acc: 0.7346\n",
            "Epoch 48/50\n",
            " - 6s - loss: 2.9186 - acc: 0.7353 - val_loss: 2.9241 - val_acc: 0.7346\n",
            "Epoch 49/50\n",
            " - 6s - loss: 2.9186 - acc: 0.7353 - val_loss: 2.9241 - val_acc: 0.7346\n",
            "Epoch 50/50\n",
            " - 6s - loss: 2.9186 - acc: 0.7353 - val_loss: 2.9241 - val_acc: 0.7346\n"
          ],
          "name": "stdout"
        },
        {
          "output_type": "execute_result",
          "data": {
            "text/plain": [
              "<keras.callbacks.History at 0x7f683cfb0ac8>"
            ]
          },
          "metadata": {
            "tags": []
          },
          "execution_count": 72
        }
      ]
    },
    {
      "cell_type": "code",
      "metadata": {
        "id": "48uYJ7yR6cvg",
        "colab_type": "code",
        "colab": {
          "base_uri": "https://localhost:8080/",
          "height": 269
        },
        "outputId": "38524313-ec92-490f-c334-9c90a15e3057"
      },
      "source": [
        "\n",
        "p = autoencoder.predict(X_test)\n",
        "\n",
        "plt.imshow(p[5000].reshape(28,28))\n",
        "plt.gray()\n",
        "plt.show()"
      ],
      "execution_count": 73,
      "outputs": [
        {
          "output_type": "display_data",
          "data": {
            "image/png": "[encoded data removed]",
            "text/plain": [
              "<Figure size 432x288 with 1 Axes>"
            ]
          },
          "metadata": {
            "tags": []
          }
        }
      ]
    },
    {
      "cell_type": "code",
      "metadata": {
        "id": "eEGgP6H96oB_",
        "colab_type": "code",
        "colab": {}
      },
      "source": [
        ""
      ],
      "execution_count": 0,
      "outputs": []
    }
  ]
}