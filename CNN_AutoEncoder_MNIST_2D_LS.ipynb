{
  "nbformat": 4,
  "nbformat_minor": 0,
  "metadata": {
    "colab": {
      "name": "CNN_AutoEncoder_MNIST_2D_LS",
      "version": "0.3.2",
      "provenance": [],
      "collapsed_sections": [],
      "include_colab_link": true
    },
    "kernelspec": {
      "name": "python3",
      "display_name": "Python 3"
    }
  },
  "cells": [
    {
      "cell_type": "markdown",
      "metadata": {
        "id": "view-in-github",
        "colab_type": "text"
      },
      "source": [
        "<a href=\"https://colab.research.google.com/github/dipayandas97/Keras_Notebook/blob/master/CNN_AutoEncoder_MNIST_2D_LS.ipynb\" target=\"_parent\"><img src=\"https://colab.research.google.com/assets/colab-badge.svg\" alt=\"Open In Colab\"/></a>"
      ]
    },
    {
      "cell_type": "code",
      "metadata": {
        "id": "aDjl2L6L0ZyB",
        "colab_type": "code",
        "colab": {}
      },
      "source": [
        "from keras.layers import Input, Dense, Conv2D, MaxPooling2D, UpSampling2D\n",
        "from keras.models import Model\n",
        "from keras import backend as K\n",
        "import matplotlib.pyplot as plt"
      ],
      "execution_count": 0,
      "outputs": []
    },
    {
      "cell_type": "code",
      "metadata": {
        "id": "q_2S8VGD1E4t",
        "colab_type": "code",
        "colab": {}
      },
      "source": [
        "encoding_dim = 2\n",
        "\n",
        "input_img = Input(shape=(28,28,1))\n",
        "\n",
        "x = Conv2D(16, (3,3), activation = 'relu', padding = 'same')(input_img)\n",
        "x = MaxPooling2D((2,2), padding = 'same')(x) #14\n",
        "x = Conv2D(8, (3, 3), activation='relu', padding='same')(x)\n",
        "x = MaxPooling2D((2, 2), padding='same')(x) #7\n",
        "x = Conv2D(8, (3, 3), activation='relu', padding='same')(x)\n",
        "x = MaxPooling2D((2, 2), padding='same')(x) #4\n",
        "x = Conv2D(8, (3, 3), activation='relu', padding='same')(x)\n",
        "encoded = MaxPooling2D((2, 2), padding='same')(x) #2\n",
        "\n",
        "# at this point the representation is (2, 2, 8) i.e. 128-dimensional\n",
        "\n",
        "x = Conv2D(8, (2, 2), activation='relu', padding='same')(encoded)\n",
        "x = UpSampling2D((2, 2))(x) #4\n",
        "x = Conv2D(8, (3, 3), activation='relu', padding='same')(x)\n",
        "x = UpSampling2D((2, 2))(x) # 8\n",
        "\n",
        "x = MaxPooling2D((2,2), strides = 1, padding = 'same')(x) # 7\n",
        "\n",
        "x = Conv2D(8, (3, 3), activation='relu', padding='same')(x)\n",
        "x = UpSampling2D((2, 2))(x) #14\n",
        "x = Conv2D(16, (3, 3), activation='relu')(x)\n",
        "x = UpSampling2D((2, 2))(x) #28\n",
        "decoded = Conv2D(1, (3, 3), activation='sigmoid', padding='same')(x)\n",
        "\n",
        "autoencoder = Model(input_img, decoded)\n",
        "autoencoder.compile(optimizer='adadelta', loss='binary_crossentropy')\n",
        "\n"
      ],
      "execution_count": 0,
      "outputs": []
    },
    {
      "cell_type": "code",
      "metadata": {
        "id": "VeWFQbB3-0Ei",
        "colab_type": "code",
        "colab": {}
      },
      "source": [
        "encoder = Model(input_img, encoded)"
      ],
      "execution_count": 0,
      "outputs": []
    },
    {
      "cell_type": "code",
      "metadata": {
        "id": "utDNbblMSn1R",
        "colab_type": "code",
        "colab": {}
      },
      "source": [
        "from keras.datasets import mnist\n",
        "import numpy as np\n",
        "\n",
        "(x_train, _), (x_test, _) = mnist.load_data()\n",
        "\n",
        "x_train = x_train.astype('float32') / 255.\n",
        "x_test = x_test.astype('float32') / 255.\n",
        "x_train = np.reshape(x_train, (len(x_train), 28, 28, 1))  # adapt this if using `channels_first` image data format\n",
        "x_test = np.reshape(x_test, (len(x_test), 28, 28, 1))  # adapt this if using `channels_first` image data format"
      ],
      "execution_count": 0,
      "outputs": []
    },
    {
      "cell_type": "code",
      "metadata": {
        "id": "PQgQUtd1Aoa6",
        "colab_type": "code",
        "colab": {}
      },
      "source": [
        ""
      ],
      "execution_count": 0,
      "outputs": []
    },
    {
      "cell_type": "code",
      "metadata": {
        "id": "YgteyUiz2kR5",
        "colab_type": "code",
        "outputId": "d4755a53-26e0-4a0c-d9f9-864b67849682",
        "colab": {
          "base_uri": "https://localhost:8080/",
          "height": 1000
        }
      },
      "source": [
        "\n",
        "autoencoder.fit(x_train, x_train,\n",
        "                epochs=50,\n",
        "                batch_size=128,\n",
        "                shuffle=True,\n",
        "                validation_data=(x_test, x_test))"
      ],
      "execution_count": 14,
      "outputs": [
        {
          "output_type": "stream",
          "text": [
            "Train on 60000 samples, validate on 10000 samples\n",
            "Epoch 1/50\n",
            "60000/60000 [==============================] - 93s 2ms/step - loss: 0.2687 - val_loss: 0.2399\n",
            "Epoch 2/50\n",
            "60000/60000 [==============================] - 92s 2ms/step - loss: 0.2116 - val_loss: 0.1981\n",
            "Epoch 3/50\n",
            "60000/60000 [==============================] - 88s 1ms/step - loss: 0.1953 - val_loss: 0.1827\n",
            "Epoch 4/50\n",
            "60000/60000 [==============================] - 92s 2ms/step - loss: 0.1847 - val_loss: 0.1771\n",
            "Epoch 5/50\n",
            "60000/60000 [==============================] - 92s 2ms/step - loss: 0.1781 - val_loss: 0.1759\n",
            "Epoch 6/50\n",
            "60000/60000 [==============================] - 90s 2ms/step - loss: 0.1752 - val_loss: 0.1716\n",
            "Epoch 7/50\n",
            "60000/60000 [==============================] - 93s 2ms/step - loss: 0.1722 - val_loss: 0.1668\n",
            "Epoch 8/50\n",
            "60000/60000 [==============================] - 93s 2ms/step - loss: 0.1706 - val_loss: 0.1788\n",
            "Epoch 9/50\n",
            "60000/60000 [==============================] - 92s 2ms/step - loss: 0.1697 - val_loss: 0.1679\n",
            "Epoch 10/50\n",
            "60000/60000 [==============================] - 92s 2ms/step - loss: 0.1683 - val_loss: 0.1703\n",
            "Epoch 11/50\n",
            "60000/60000 [==============================] - 92s 2ms/step - loss: 0.1678 - val_loss: 0.1649\n",
            "Epoch 12/50\n",
            "60000/60000 [==============================] - 93s 2ms/step - loss: 0.1664 - val_loss: 0.1697\n",
            "Epoch 13/50\n",
            "60000/60000 [==============================] - 92s 2ms/step - loss: 0.1661 - val_loss: 0.1800\n",
            "Epoch 14/50\n",
            "60000/60000 [==============================] - 90s 1ms/step - loss: 0.1653 - val_loss: 0.1591\n",
            "Epoch 15/50\n",
            "60000/60000 [==============================] - 87s 1ms/step - loss: 0.1651 - val_loss: 0.1598\n",
            "Epoch 16/50\n",
            "60000/60000 [==============================] - 88s 1ms/step - loss: 0.1647 - val_loss: 0.1717\n",
            "Epoch 17/50\n",
            "60000/60000 [==============================] - 87s 1ms/step - loss: 0.1651 - val_loss: 0.1590\n",
            "Epoch 18/50\n",
            "60000/60000 [==============================] - 87s 1ms/step - loss: 0.1645 - val_loss: 0.1633\n",
            "Epoch 19/50\n",
            "60000/60000 [==============================] - 90s 1ms/step - loss: 0.1636 - val_loss: 0.1645\n",
            "Epoch 20/50\n",
            "60000/60000 [==============================] - 90s 2ms/step - loss: 0.1632 - val_loss: 0.1604\n",
            "Epoch 21/50\n",
            "60000/60000 [==============================] - 87s 1ms/step - loss: 0.1629 - val_loss: 0.1698\n",
            "Epoch 22/50\n",
            "60000/60000 [==============================] - 87s 1ms/step - loss: 0.1629 - val_loss: 0.1614\n",
            "Epoch 23/50\n",
            "60000/60000 [==============================] - 87s 1ms/step - loss: 0.1631 - val_loss: 0.1691\n",
            "Epoch 24/50\n",
            "60000/60000 [==============================] - 87s 1ms/step - loss: 0.1637 - val_loss: 0.2599\n",
            "Epoch 25/50\n",
            "60000/60000 [==============================] - 91s 2ms/step - loss: 0.1643 - val_loss: 0.1685\n",
            "Epoch 26/50\n",
            "60000/60000 [==============================] - 91s 2ms/step - loss: 0.1623 - val_loss: 0.1584\n",
            "Epoch 27/50\n",
            "60000/60000 [==============================] - 87s 1ms/step - loss: 0.1626 - val_loss: 0.1588\n",
            "Epoch 28/50\n",
            "60000/60000 [==============================] - 88s 1ms/step - loss: 0.1632 - val_loss: 0.1664\n",
            "Epoch 29/50\n",
            "60000/60000 [==============================] - 88s 1ms/step - loss: 0.1628 - val_loss: 0.1540\n",
            "Epoch 30/50\n",
            "60000/60000 [==============================] - 88s 1ms/step - loss: 0.1635 - val_loss: 0.1620\n",
            "Epoch 31/50\n",
            "60000/60000 [==============================] - 91s 2ms/step - loss: 0.1633 - val_loss: 0.1608\n",
            "Epoch 32/50\n",
            "60000/60000 [==============================] - 91s 2ms/step - loss: 0.1617 - val_loss: 0.1607\n",
            "Epoch 33/50\n",
            "60000/60000 [==============================] - 92s 2ms/step - loss: 0.1614 - val_loss: 0.1536\n",
            "Epoch 34/50\n",
            "60000/60000 [==============================] - 87s 1ms/step - loss: 0.1614 - val_loss: 0.1597\n",
            "Epoch 35/50\n",
            "60000/60000 [==============================] - 88s 1ms/step - loss: 0.1618 - val_loss: 0.1549\n",
            "Epoch 36/50\n",
            "60000/60000 [==============================] - 90s 1ms/step - loss: 0.1628 - val_loss: 0.1553\n",
            "Epoch 37/50\n",
            "60000/60000 [==============================] - 92s 2ms/step - loss: 0.1619 - val_loss: 0.1938\n",
            "Epoch 38/50\n",
            "60000/60000 [==============================] - 90s 2ms/step - loss: 0.1628 - val_loss: 0.1801\n",
            "Epoch 39/50\n",
            "60000/60000 [==============================] - 87s 1ms/step - loss: 0.1617 - val_loss: 0.1635\n",
            "Epoch 40/50\n",
            "60000/60000 [==============================] - 90s 2ms/step - loss: 0.1615 - val_loss: 0.1659\n",
            "Epoch 41/50\n",
            "60000/60000 [==============================] - 87s 1ms/step - loss: 0.1625 - val_loss: 0.1506\n",
            "Epoch 42/50\n",
            "60000/60000 [==============================] - 85s 1ms/step - loss: 0.1626 - val_loss: 0.1593\n",
            "Epoch 43/50\n",
            "60000/60000 [==============================] - 86s 1ms/step - loss: 0.1623 - val_loss: 0.1532\n",
            "Epoch 44/50\n",
            "60000/60000 [==============================] - 90s 2ms/step - loss: 0.1630 - val_loss: 0.1957\n",
            "Epoch 45/50\n",
            "60000/60000 [==============================] - 87s 1ms/step - loss: 0.1634 - val_loss: 0.1589\n",
            "Epoch 46/50\n",
            "60000/60000 [==============================] - 86s 1ms/step - loss: 0.1639 - val_loss: 0.1855\n",
            "Epoch 47/50\n",
            "60000/60000 [==============================] - 90s 1ms/step - loss: 0.1638 - val_loss: 0.1487\n",
            "Epoch 48/50\n",
            "60000/60000 [==============================] - 87s 1ms/step - loss: 0.1624 - val_loss: 0.1524\n",
            "Epoch 49/50\n",
            "60000/60000 [==============================] - 88s 1ms/step - loss: 0.1639 - val_loss: 0.1746\n",
            "Epoch 50/50\n",
            "60000/60000 [==============================] - 90s 1ms/step - loss: 0.1611 - val_loss: 0.1655\n"
          ],
          "name": "stdout"
        },
        {
          "output_type": "execute_result",
          "data": {
            "text/plain": [
              "<keras.callbacks.History at 0x7fee9692f860>"
            ]
          },
          "metadata": {
            "tags": []
          },
          "execution_count": 14
        }
      ]
    },
    {
      "cell_type": "code",
      "metadata": {
        "id": "eEGgP6H96oB_",
        "colab_type": "code",
        "outputId": "cd4f38b9-271d-4060-f878-20d985abd3bb",
        "colab": {
          "base_uri": "https://localhost:8080/",
          "height": 219
        }
      },
      "source": [
        "encoded_vector = encoder.predict(x_test)\n",
        "\n",
        "plt.imshow(encoded_vector[2000].reshape(4,8))\n",
        "plt.gray()\n",
        "plt.show()"
      ],
      "execution_count": 17,
      "outputs": [
        {
          "output_type": "display_data",
          "data": {
            "image/png": "[encoded data removed]",
            "text/plain": [
              "<Figure size 432x288 with 1 Axes>"
            ]
          },
          "metadata": {
            "tags": []
          }
        }
      ]
    },
    {
      "cell_type": "code",
      "metadata": {
        "id": "DUyG84Ub-WDW",
        "colab_type": "code",
        "outputId": "add65c72-b46f-4c08-af49-c8b64383d621",
        "colab": {
          "base_uri": "https://localhost:8080/",
          "height": 269
        }
      },
      "source": [
        "predictions = autoencoder.predict(x_test)\n",
        "\n",
        "plt.imshow(predictions[5000].reshape(28,28))\n",
        "plt.gray()\n",
        "plt.show()"
      ],
      "execution_count": 19,
      "outputs": [
        {
          "output_type": "display_data",
          "data": {
            "image/png": "[encoded data removed]",
            "text/plain": [
              "<Figure size 432x288 with 1 Axes>"
            ]
          },
          "metadata": {
            "tags": []
          }
        }
      ]
    },
    {
      "cell_type": "code",
      "metadata": {
        "id": "aLP78l1d_WH3",
        "colab_type": "code",
        "colab": {}
      },
      "source": [
        ""
      ],
      "execution_count": 0,
      "outputs": []
    }
  ]
}