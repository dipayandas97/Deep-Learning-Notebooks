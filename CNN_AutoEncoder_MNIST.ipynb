{
  "nbformat": 4,
  "nbformat_minor": 0,
  "metadata": {
    "colab": {
      "name": "CNN_AutoEncoder_MNIST",
      "version": "0.3.2",
      "provenance": [],
      "collapsed_sections": [],
      "include_colab_link": true
    },
    "kernelspec": {
      "name": "python3",
      "display_name": "Python 3"
    }
  },
  "cells": [
    {
      "cell_type": "markdown",
      "metadata": {
        "id": "view-in-github",
        "colab_type": "text"
      },
      "source": [
        "<a href=\"https://colab.research.google.com/github/dipayandas97/Keras_Notebook/blob/master/CNN_AutoEncoder_MNIST.ipynb\" target=\"_parent\"><img src=\"https://colab.research.google.com/assets/colab-badge.svg\" alt=\"Open In Colab\"/></a>"
      ]
    },
    {
      "cell_type": "code",
      "metadata": {
        "id": "aDjl2L6L0ZyB",
        "colab_type": "code",
        "outputId": "033f6fc0-b748-4b4a-ede9-27c394926b66",
        "colab": {
          "base_uri": "https://localhost:8080/",
          "height": 34
        }
      },
      "source": [
        "from keras.layers import Input, Dense, Conv2D, MaxPooling2D, UpSampling2D\n",
        "from keras.models import Model\n",
        "from keras import backend as K\n"
      ],
      "execution_count": 1,
      "outputs": [
        {
          "output_type": "stream",
          "text": [
            "Using TensorFlow backend.\n"
          ],
          "name": "stderr"
        }
      ]
    },
    {
      "cell_type": "code",
      "metadata": {
        "id": "q_2S8VGD1E4t",
        "colab_type": "code",
        "colab": {
          "base_uri": "https://localhost:8080/",
          "height": 343
        },
        "outputId": "2c41ac69-4f2f-47a4-a96b-d3bf16b4949c"
      },
      "source": [
        "encoding_dim = 2\n",
        "\n",
        "input_img = Input(shape=(28,28,1))\n",
        "\n",
        "x = Conv2D(16, (3,3), activation = 'relu', padding = 'same')(input_img)\n",
        "x = MaxPooling2D((2,2), padding = 'same')(x)\n",
        "x = Conv2D(8, (3, 3), activation='relu', padding='same')(x)\n",
        "x = MaxPooling2D((2, 2), padding='same')(x)\n",
        "x = Conv2D(8, (3, 3), activation='relu', padding='same')(x)\n",
        "encoded = MaxPooling2D((2, 2), padding='same')(x)\n",
        "\n",
        "# at this point the representation is (4, 4, 8) i.e. 128-dimensional\n",
        "\n",
        "x = Conv2D(8, (3, 3), activation='relu', padding='same')(encoded)\n",
        "x = UpSampling2D((2, 2))(x)\n",
        "x = Conv2D(8, (3, 3), activation='relu', padding='same')(x)\n",
        "x = UpSampling2D((2, 2))(x)\n",
        "x = Conv2D(16, (3, 3), activation='relu')(x)\n",
        "x = UpSampling2D((2, 2))(x)\n",
        "decoded = Conv2D(1, (3, 3), activation='sigmoid', padding='same')(x)\n",
        "\n",
        "autoencoder = Model(input_img, decoded)\n",
        "autoencoder.compile(optimizer='adadelta', loss='binary_crossentropy')\n",
        "\n"
      ],
      "execution_count": 2,
      "outputs": [
        {
          "output_type": "stream",
          "text": [
            "WARNING: Logging before flag parsing goes to stderr.\n",
            "W0824 17:22:24.995858 140048540616576 deprecation_wrapper.py:119] From /usr/local/lib/python3.6/dist-packages/keras/backend/tensorflow_backend.py:74: The name tf.get_default_graph is deprecated. Please use tf.compat.v1.get_default_graph instead.\n",
            "\n",
            "W0824 17:22:25.048458 140048540616576 deprecation_wrapper.py:119] From /usr/local/lib/python3.6/dist-packages/keras/backend/tensorflow_backend.py:517: The name tf.placeholder is deprecated. Please use tf.compat.v1.placeholder instead.\n",
            "\n",
            "W0824 17:22:25.059408 140048540616576 deprecation_wrapper.py:119] From /usr/local/lib/python3.6/dist-packages/keras/backend/tensorflow_backend.py:4138: The name tf.random_uniform is deprecated. Please use tf.random.uniform instead.\n",
            "\n",
            "W0824 17:22:25.113021 140048540616576 deprecation_wrapper.py:119] From /usr/local/lib/python3.6/dist-packages/keras/backend/tensorflow_backend.py:3976: The name tf.nn.max_pool is deprecated. Please use tf.nn.max_pool2d instead.\n",
            "\n",
            "W0824 17:22:25.161007 140048540616576 deprecation_wrapper.py:119] From /usr/local/lib/python3.6/dist-packages/keras/backend/tensorflow_backend.py:2018: The name tf.image.resize_nearest_neighbor is deprecated. Please use tf.compat.v1.image.resize_nearest_neighbor instead.\n",
            "\n",
            "W0824 17:22:25.215905 140048540616576 deprecation_wrapper.py:119] From /usr/local/lib/python3.6/dist-packages/keras/optimizers.py:790: The name tf.train.Optimizer is deprecated. Please use tf.compat.v1.train.Optimizer instead.\n",
            "\n",
            "W0824 17:22:25.232977 140048540616576 deprecation_wrapper.py:119] From /usr/local/lib/python3.6/dist-packages/keras/backend/tensorflow_backend.py:3376: The name tf.log is deprecated. Please use tf.math.log instead.\n",
            "\n",
            "W0824 17:22:25.240822 140048540616576 deprecation.py:323] From /usr/local/lib/python3.6/dist-packages/tensorflow/python/ops/nn_impl.py:180: add_dispatch_support.<locals>.wrapper (from tensorflow.python.ops.array_ops) is deprecated and will be removed in a future version.\n",
            "Instructions for updating:\n",
            "Use tf.where in 2.0, which has the same broadcast rule as np.where\n"
          ],
          "name": "stderr"
        }
      ]
    },
    {
      "cell_type": "code",
      "metadata": {
        "id": "utDNbblMSn1R",
        "colab_type": "code",
        "colab": {
          "base_uri": "https://localhost:8080/",
          "height": 51
        },
        "outputId": "7f47f202-4e68-4c46-aa19-0d773309feb5"
      },
      "source": [
        "from keras.datasets import mnist\n",
        "import numpy as np\n",
        "\n",
        "(x_train, _), (x_test, _) = mnist.load_data()\n",
        "\n",
        "x_train = x_train.astype('float32') / 255.\n",
        "x_test = x_test.astype('float32') / 255.\n",
        "x_train = np.reshape(x_train, (len(x_train), 28, 28, 1))  # adapt this if using `channels_first` image data format\n",
        "x_test = np.reshape(x_test, (len(x_test), 28, 28, 1))  # adapt this if using `channels_first` image data format"
      ],
      "execution_count": 3,
      "outputs": [
        {
          "output_type": "stream",
          "text": [
            "Downloading data from https://s3.amazonaws.com/img-datasets/mnist.npz\n",
            "11493376/11490434 [==============================] - 1s 0us/step\n"
          ],
          "name": "stdout"
        }
      ]
    },
    {
      "cell_type": "code",
      "metadata": {
        "id": "YgteyUiz2kR5",
        "colab_type": "code",
        "outputId": "4c2b714c-a920-4efa-856b-cee8159b0499",
        "colab": {
          "base_uri": "https://localhost:8080/",
          "height": 1000
        }
      },
      "source": [
        "\n",
        "autoencoder.fit(x_train, x_train,\n",
        "                epochs=50,\n",
        "                batch_size=128,\n",
        "                shuffle=True,\n",
        "                validation_data=(x_test, x_test))"
      ],
      "execution_count": 4,
      "outputs": [
        {
          "output_type": "stream",
          "text": [
            "W0824 17:22:27.273005 140048540616576 deprecation_wrapper.py:119] From /usr/local/lib/python3.6/dist-packages/keras/backend/tensorflow_backend.py:986: The name tf.assign_add is deprecated. Please use tf.compat.v1.assign_add instead.\n",
            "\n"
          ],
          "name": "stderr"
        },
        {
          "output_type": "stream",
          "text": [
            "Train on 60000 samples, validate on 10000 samples\n",
            "Epoch 1/50\n",
            "60000/60000 [==============================] - 84s 1ms/step - loss: 0.2381 - val_loss: 0.1843\n",
            "Epoch 2/50\n",
            "60000/60000 [==============================] - 82s 1ms/step - loss: 0.1736 - val_loss: 0.1691\n",
            "Epoch 3/50\n",
            "60000/60000 [==============================] - 84s 1ms/step - loss: 0.1586 - val_loss: 0.1559\n",
            "Epoch 4/50\n",
            "60000/60000 [==============================] - 83s 1ms/step - loss: 0.1506 - val_loss: 0.1495\n",
            "Epoch 5/50\n",
            "60000/60000 [==============================] - 84s 1ms/step - loss: 0.1466 - val_loss: 0.1382\n",
            "Epoch 6/50\n",
            "60000/60000 [==============================] - 83s 1ms/step - loss: 0.1451 - val_loss: 0.1489\n",
            "Epoch 7/50\n",
            "60000/60000 [==============================] - 83s 1ms/step - loss: 0.1419 - val_loss: 0.1434\n",
            "Epoch 8/50\n",
            "60000/60000 [==============================] - 84s 1ms/step - loss: 0.1401 - val_loss: 0.1351\n",
            "Epoch 9/50\n",
            "60000/60000 [==============================] - 82s 1ms/step - loss: 0.1377 - val_loss: 0.1325\n",
            "Epoch 10/50\n",
            "60000/60000 [==============================] - 81s 1ms/step - loss: 0.1361 - val_loss: 0.1348\n",
            "Epoch 11/50\n",
            "60000/60000 [==============================] - 82s 1ms/step - loss: 0.1352 - val_loss: 0.1388\n",
            "Epoch 12/50\n",
            "60000/60000 [==============================] - 82s 1ms/step - loss: 0.1348 - val_loss: 0.1349\n",
            "Epoch 13/50\n",
            "60000/60000 [==============================] - 83s 1ms/step - loss: 0.1338 - val_loss: 0.1324\n",
            "Epoch 14/50\n",
            "60000/60000 [==============================] - 81s 1ms/step - loss: 0.1334 - val_loss: 0.1253\n",
            "Epoch 15/50\n",
            "60000/60000 [==============================] - 80s 1ms/step - loss: 0.1334 - val_loss: 0.1408\n",
            "Epoch 16/50\n",
            "60000/60000 [==============================] - 80s 1ms/step - loss: 0.1326 - val_loss: 0.1237\n",
            "Epoch 17/50\n",
            "60000/60000 [==============================] - 79s 1ms/step - loss: 0.1318 - val_loss: 0.1304\n",
            "Epoch 18/50\n",
            "60000/60000 [==============================] - 79s 1ms/step - loss: 0.1315 - val_loss: 0.1308\n",
            "Epoch 19/50\n",
            "60000/60000 [==============================] - 80s 1ms/step - loss: 0.1311 - val_loss: 0.1328\n",
            "Epoch 20/50\n",
            "60000/60000 [==============================] - 81s 1ms/step - loss: 0.1348 - val_loss: 0.1281\n",
            "Epoch 21/50\n",
            "60000/60000 [==============================] - 80s 1ms/step - loss: 0.1334 - val_loss: 0.1322\n",
            "Epoch 22/50\n",
            "60000/60000 [==============================] - 81s 1ms/step - loss: 0.1338 - val_loss: 0.1240\n",
            "Epoch 23/50\n",
            "60000/60000 [==============================] - 80s 1ms/step - loss: 0.1323 - val_loss: 0.1280\n",
            "Epoch 24/50\n",
            "60000/60000 [==============================] - 81s 1ms/step - loss: 0.1327 - val_loss: 0.1255\n",
            "Epoch 25/50\n",
            "60000/60000 [==============================] - 81s 1ms/step - loss: 0.1321 - val_loss: 0.1337\n",
            "Epoch 26/50\n",
            "60000/60000 [==============================] - 81s 1ms/step - loss: 0.1318 - val_loss: 0.1346\n",
            "Epoch 27/50\n",
            "60000/60000 [==============================] - 81s 1ms/step - loss: 0.1314 - val_loss: 0.1342\n",
            "Epoch 28/50\n",
            "60000/60000 [==============================] - 81s 1ms/step - loss: 0.1312 - val_loss: 0.1411\n",
            "Epoch 29/50\n",
            "60000/60000 [==============================] - 80s 1ms/step - loss: 0.1318 - val_loss: 0.1330\n",
            "Epoch 30/50\n",
            "60000/60000 [==============================] - 81s 1ms/step - loss: 0.1313 - val_loss: 0.1266\n",
            "Epoch 31/50\n",
            "60000/60000 [==============================] - 81s 1ms/step - loss: 0.1299 - val_loss: 0.1319\n",
            "Epoch 32/50\n",
            "60000/60000 [==============================] - 81s 1ms/step - loss: 0.1313 - val_loss: 0.1368\n",
            "Epoch 33/50\n",
            "60000/60000 [==============================] - 81s 1ms/step - loss: 0.1341 - val_loss: 0.1389\n",
            "Epoch 34/50\n",
            "60000/60000 [==============================] - 80s 1ms/step - loss: 0.1346 - val_loss: 0.1389\n",
            "Epoch 35/50\n",
            "60000/60000 [==============================] - 81s 1ms/step - loss: 0.1326 - val_loss: 0.1290\n",
            "Epoch 36/50\n",
            "60000/60000 [==============================] - 80s 1ms/step - loss: 0.1314 - val_loss: 0.1338\n",
            "Epoch 37/50\n",
            "60000/60000 [==============================] - 80s 1ms/step - loss: 0.1316 - val_loss: 0.1261\n",
            "Epoch 38/50\n",
            "60000/60000 [==============================] - 80s 1ms/step - loss: 0.1307 - val_loss: 0.1363\n",
            "Epoch 39/50\n",
            "60000/60000 [==============================] - 81s 1ms/step - loss: 0.1310 - val_loss: 0.1349\n",
            "Epoch 40/50\n",
            "60000/60000 [==============================] - 81s 1ms/step - loss: 0.1311 - val_loss: 0.1268\n",
            "Epoch 41/50\n",
            "60000/60000 [==============================] - 81s 1ms/step - loss: 0.1311 - val_loss: 0.1188\n",
            "Epoch 42/50\n",
            "60000/60000 [==============================] - 81s 1ms/step - loss: 0.1316 - val_loss: 0.1437\n",
            "Epoch 43/50\n",
            "60000/60000 [==============================] - 81s 1ms/step - loss: 0.1333 - val_loss: 0.1376\n",
            "Epoch 44/50\n",
            "60000/60000 [==============================] - 81s 1ms/step - loss: 0.1370 - val_loss: 0.1235\n",
            "Epoch 45/50\n",
            "60000/60000 [==============================] - 83s 1ms/step - loss: 0.1339 - val_loss: 0.1214\n",
            "Epoch 46/50\n",
            "60000/60000 [==============================] - 82s 1ms/step - loss: 0.1319 - val_loss: 0.1250\n",
            "Epoch 47/50\n",
            "60000/60000 [==============================] - 81s 1ms/step - loss: 0.1313 - val_loss: 0.1378\n",
            "Epoch 48/50\n",
            "60000/60000 [==============================] - 81s 1ms/step - loss: 0.1352 - val_loss: 0.1276\n",
            "Epoch 49/50\n",
            "60000/60000 [==============================] - 81s 1ms/step - loss: 0.1328 - val_loss: 0.1355\n",
            "Epoch 50/50\n",
            "60000/60000 [==============================] - 81s 1ms/step - loss: 0.1335 - val_loss: 0.1350\n"
          ],
          "name": "stdout"
        },
        {
          "output_type": "execute_result",
          "data": {
            "text/plain": [
              "<keras.callbacks.History at 0x7f5f73e76780>"
            ]
          },
          "metadata": {
            "tags": []
          },
          "execution_count": 4
        }
      ]
    },
    {
      "cell_type": "code",
      "metadata": {
        "id": "5C7spheCEYEr",
        "colab_type": "code",
        "outputId": "a6de8119-22ba-4840-eb75-5ec1c4d8bb63",
        "colab": {
          "base_uri": "https://localhost:8080/",
          "height": 34
        }
      },
      "source": [
        "autoencoder.layers[6].input_shape"
      ],
      "execution_count": 5,
      "outputs": [
        {
          "output_type": "execute_result",
          "data": {
            "text/plain": [
              "(None, 7, 7, 8)"
            ]
          },
          "metadata": {
            "tags": []
          },
          "execution_count": 5
        }
      ]
    },
    {
      "cell_type": "code",
      "metadata": {
        "id": "eEGgP6H96oB_",
        "colab_type": "code",
        "colab": {
          "base_uri": "https://localhost:8080/",
          "height": 269
        },
        "outputId": "677c52b9-15ff-4610-e518-ed909861f7bc"
      },
      "source": [
        "p = autoencoder.predict(x_test)\n",
        "\n",
        "plt.imshow(p[1000].reshape(28,28))\n",
        "plt.gray()\n",
        "plt.show()"
      ],
      "execution_count": 13,
      "outputs": [
        {
          "output_type": "display_data",
          "data": {
            "image/png": "[encoded data removed]",
            "text/plain": [
              "<Figure size 432x288 with 1 Axes>"
            ]
          },
          "metadata": {
            "tags": []
          }
        }
      ]
    },
    {
      "cell_type": "code",
      "metadata": {
        "id": "DUyG84Ub-WDW",
        "colab_type": "code",
        "colab": {}
      },
      "source": [
        ""
      ],
      "execution_count": 0,
      "outputs": []
    }
  ]
}