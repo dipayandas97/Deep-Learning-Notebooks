{
  "nbformat": 4,
  "nbformat_minor": 0,
  "metadata": {
    "colab": {
      "name": "Predicting COVID-19 cases in India : June 5-July 7, 2020.ipynb",
      "provenance": [],
      "authorship_tag": "ABX9TyNB9MoIrT1m0negteraxtUi",
      "include_colab_link": true
    },
    "kernelspec": {
      "name": "python3",
      "display_name": "Python 3"
    }
  },
  "cells": [
    {
      "cell_type": "markdown",
      "metadata": {
        "id": "view-in-github",
        "colab_type": "text"
      },
      "source": [
        "<a href=\"https://colab.research.google.com/github/dipayandas97/Deep-Learning-Notebooks/blob/master/Predicting_COVID_19_cases_in_India_June_5_July_7%2C_2020.ipynb\" target=\"_parent\"><img src=\"https://colab.research.google.com/assets/colab-badge.svg\" alt=\"Open In Colab\"/></a>"
      ]
    },
    {
      "cell_type": "code",
      "metadata": {
        "id": "KxkVPkuZ4GV2",
        "colab_type": "code",
        "colab": {
          "base_uri": "https://localhost:8080/",
          "height": 34
        },
        "outputId": "ad3b327f-e84d-469f-aaac-87345ff63bc9"
      },
      "source": [
        "import pandas as pd\n",
        "import numpy as np\n",
        "import matplotlib.pyplot as plt\n",
        "\n",
        "from google.colab import drive\n",
        "drive.mount('/content/drive/')"
      ],
      "execution_count": 46,
      "outputs": [
        {
          "output_type": "stream",
          "text": [
            "Drive already mounted at /content/drive/; to attempt to forcibly remount, call drive.mount(\"/content/drive/\", force_remount=True).\n"
          ],
          "name": "stdout"
        }
      ]
    },
    {
      "cell_type": "code",
      "metadata": {
        "id": "Ws--G4-S5EyK",
        "colab_type": "code",
        "colab": {
          "base_uri": "https://localhost:8080/",
          "height": 424
        },
        "outputId": "be5b8f97-9591-4944-fbf5-4ebac234ed0a"
      },
      "source": [
        "data = pd.read_csv('/content/drive/My Drive/ISI/COVID-19/saggy_covid_time_series_india.txt', delimiter='\\t')\n",
        "data.head(-1)"
      ],
      "execution_count": 47,
      "outputs": [
        {
          "output_type": "execute_result",
          "data": {
            "text/html": [
              "<div>\n",
              "<style scoped>\n",
              "    .dataframe tbody tr th:only-of-type {\n",
              "        vertical-align: middle;\n",
              "    }\n",
              "\n",
              "    .dataframe tbody tr th {\n",
              "        vertical-align: top;\n",
              "    }\n",
              "\n",
              "    .dataframe thead th {\n",
              "        text-align: right;\n",
              "    }\n",
              "</style>\n",
              "<table border=\"1\" class=\"dataframe\">\n",
              "  <thead>\n",
              "    <tr style=\"text-align: right;\">\n",
              "      <th></th>\n",
              "      <th>date</th>\n",
              "      <th>country</th>\n",
              "      <th>confirmed</th>\n",
              "      <th>recovered</th>\n",
              "      <th>death</th>\n",
              "    </tr>\n",
              "  </thead>\n",
              "  <tbody>\n",
              "    <tr>\n",
              "      <th>0</th>\n",
              "      <td>2020-01-22</td>\n",
              "      <td>India</td>\n",
              "      <td>0</td>\n",
              "      <td>0</td>\n",
              "      <td>0</td>\n",
              "    </tr>\n",
              "    <tr>\n",
              "      <th>1</th>\n",
              "      <td>2020-01-23</td>\n",
              "      <td>India</td>\n",
              "      <td>0</td>\n",
              "      <td>0</td>\n",
              "      <td>0</td>\n",
              "    </tr>\n",
              "    <tr>\n",
              "      <th>2</th>\n",
              "      <td>2020-01-24</td>\n",
              "      <td>India</td>\n",
              "      <td>0</td>\n",
              "      <td>0</td>\n",
              "      <td>0</td>\n",
              "    </tr>\n",
              "    <tr>\n",
              "      <th>3</th>\n",
              "      <td>2020-01-25</td>\n",
              "      <td>India</td>\n",
              "      <td>0</td>\n",
              "      <td>0</td>\n",
              "      <td>0</td>\n",
              "    </tr>\n",
              "    <tr>\n",
              "      <th>4</th>\n",
              "      <td>2020-01-26</td>\n",
              "      <td>India</td>\n",
              "      <td>0</td>\n",
              "      <td>0</td>\n",
              "      <td>0</td>\n",
              "    </tr>\n",
              "    <tr>\n",
              "      <th>...</th>\n",
              "      <td>...</td>\n",
              "      <td>...</td>\n",
              "      <td>...</td>\n",
              "      <td>...</td>\n",
              "      <td>...</td>\n",
              "    </tr>\n",
              "    <tr>\n",
              "      <th>130</th>\n",
              "      <td>2020-05-31</td>\n",
              "      <td>India</td>\n",
              "      <td>190609</td>\n",
              "      <td>91852</td>\n",
              "      <td>5408</td>\n",
              "    </tr>\n",
              "    <tr>\n",
              "      <th>131</th>\n",
              "      <td>2020-06-01</td>\n",
              "      <td>India</td>\n",
              "      <td>198370</td>\n",
              "      <td>95754</td>\n",
              "      <td>5608</td>\n",
              "    </tr>\n",
              "    <tr>\n",
              "      <th>132</th>\n",
              "      <td>2020-06-02</td>\n",
              "      <td>India</td>\n",
              "      <td>207191</td>\n",
              "      <td>100285</td>\n",
              "      <td>5829</td>\n",
              "    </tr>\n",
              "    <tr>\n",
              "      <th>133</th>\n",
              "      <td>2020-06-03</td>\n",
              "      <td>India</td>\n",
              "      <td>216824</td>\n",
              "      <td>104071</td>\n",
              "      <td>6088</td>\n",
              "    </tr>\n",
              "    <tr>\n",
              "      <th>134</th>\n",
              "      <td>2020-06-04</td>\n",
              "      <td>India</td>\n",
              "      <td>226713</td>\n",
              "      <td>108450</td>\n",
              "      <td>6363</td>\n",
              "    </tr>\n",
              "  </tbody>\n",
              "</table>\n",
              "<p>135 rows × 5 columns</p>\n",
              "</div>"
            ],
            "text/plain": [
              "           date country  confirmed  recovered  death\n",
              "0    2020-01-22   India          0          0      0\n",
              "1    2020-01-23   India          0          0      0\n",
              "2    2020-01-24   India          0          0      0\n",
              "3    2020-01-25   India          0          0      0\n",
              "4    2020-01-26   India          0          0      0\n",
              "..          ...     ...        ...        ...    ...\n",
              "130  2020-05-31   India     190609      91852   5408\n",
              "131  2020-06-01   India     198370      95754   5608\n",
              "132  2020-06-02   India     207191     100285   5829\n",
              "133  2020-06-03   India     216824     104071   6088\n",
              "134  2020-06-04   India     226713     108450   6363\n",
              "\n",
              "[135 rows x 5 columns]"
            ]
          },
          "metadata": {
            "tags": []
          },
          "execution_count": 47
        }
      ]
    },
    {
      "cell_type": "code",
      "metadata": {
        "id": "CZBIPaIl5bM0",
        "colab_type": "code",
        "colab": {}
      },
      "source": [
        "confirmed = data['confirmed'].to_numpy()\n",
        "recovered = data['recovered'].to_numpy()\n",
        "death = data['death'].to_numpy()\n",
        "days = np.arange(0,136)\n",
        "\n",
        "print('Confirmed: ',confirmed.shape, 'Recovered: ', recovered.shape, 'Death:', death.shape)\n",
        "plt.figure(figsize=(10,6))\n",
        "plt.xlabel('Days from Jan 22,2020', fontsize=16)\n",
        "plt.ylabel('Confirmed Cases', fontsize=16)\n",
        "plt.plot(confirmed, label='confirmed')\n",
        "plt.legend(fontsize=16)\n",
        "plt.show()\n",
        "\n",
        "plt.figure(figsize=(10,6))\n",
        "plt.xlabel('Days from Jan 22,2020', fontsize=16)\n",
        "plt.ylabel('Recovered Cases', fontsize=16)\n",
        "plt.plot(recovered, label='recovered')\n",
        "plt.legend(fontsize=16)\n",
        "plt.show()\n",
        "\n",
        "plt.figure(figsize=(10,6))\n",
        "plt.xlabel('Days from Jan 22,2020', fontsize=16)\n",
        "plt.ylabel('Death Cases', fontsize=16)\n",
        "plt.plot(death, label='death')\n",
        "plt.legend(fontsize=16)\n",
        "plt.show()"
      ],
      "execution_count": 0,
      "outputs": []
    },
    {
      "cell_type": "code",
      "metadata": {
        "id": "ntvhul6O8Lra",
        "colab_type": "code",
        "colab": {}
      },
      "source": [
        "#Windowing function\n",
        "#last column of returned array is output\n",
        "\n",
        "def get_windowed_data(data, window_size):\n",
        "    if len(data.shape)==1:\n",
        "        XY = data[0:window_size+1].reshape(1,window_size+1)\n",
        "        for i in range(1,data.shape[0]-window_size):\n",
        "            XY = np.vstack((XY, data[i:i+window_size+1].reshape(1,window_size+1)))\n",
        "    return XY"
      ],
      "execution_count": 0,
      "outputs": []
    },
    {
      "cell_type": "code",
      "metadata": {
        "id": "IKtg9Gt3AuVT",
        "colab_type": "code",
        "colab": {}
      },
      "source": [
        "window_size = 5"
      ],
      "execution_count": 0,
      "outputs": []
    },
    {
      "cell_type": "code",
      "metadata": {
        "id": "o4anLXtv_nQp",
        "colab_type": "code",
        "colab": {}
      },
      "source": [
        "WD_confirmed = get_windowed_data(confirmed, window_size)\n",
        "WD_recovered = get_windowed_data(recovered, window_size)\n",
        "WD_death = get_windowed_data(death, window_size)\n",
        "WD_days = get_windowed_data(days, window_size)\n",
        "\n",
        "#changing data here\n",
        "wD = WD_confirmed\n",
        "wD_real = confirmed\n",
        "wD_name = 'Confirmed'\n",
        "\n",
        "wD_ = wD / np.max(wD) #Since all data start from 0, so min(data) = 0, so d = d-min/max-min becomes d = d/max"
      ],
      "execution_count": 0,
      "outputs": []
    },
    {
      "cell_type": "code",
      "metadata": {
        "id": "4tgGIW0bBw8O",
        "colab_type": "code",
        "colab": {
          "base_uri": "https://localhost:8080/",
          "height": 34
        },
        "outputId": "32e2e189-5876-4a5c-8ba0-1a8c52457afb"
      },
      "source": [
        "X = wD_[:,:-1]\n",
        "Y = wD_[:,-1]\n",
        "\n",
        "X_train, X_test, y_train, y_test = X[:120], X[120:], Y[:120], Y[120:]\n",
        "\n",
        "print(X_train.shape, y_train.shape)"
      ],
      "execution_count": 177,
      "outputs": [
        {
          "output_type": "stream",
          "text": [
            "(120, 5) (120,)\n"
          ],
          "name": "stdout"
        }
      ]
    },
    {
      "cell_type": "code",
      "metadata": {
        "id": "AQPyLZJTATo7",
        "colab_type": "code",
        "colab": {}
      },
      "source": [
        "from keras.layers import *\n",
        "from keras.models import Model\n",
        "\n",
        "inp = Input(shape=(window_size,))\n",
        "x = Dense(12, activation='relu')(inp)\n",
        "x = Dense(4, activation='relu')(x)\n",
        "x = Dense(1, activation='relu')(x)\n",
        "\n",
        "model = Model(inp, x)\n",
        "model.compile(loss='mse', optimizer='adam')"
      ],
      "execution_count": 0,
      "outputs": []
    },
    {
      "cell_type": "code",
      "metadata": {
        "id": "OVXocLzBCMil",
        "colab_type": "code",
        "colab": {}
      },
      "source": [
        "model.fit(X, Y, epochs=500, batch_size=8, shuffle=True, validation_data=(X_test, y_test))"
      ],
      "execution_count": 0,
      "outputs": []
    },
    {
      "cell_type": "code",
      "metadata": {
        "id": "lHHwJtalOQVi",
        "colab_type": "code",
        "colab": {
          "base_uri": "https://localhost:8080/",
          "height": 285
        },
        "outputId": "3142eac9-c81b-4490-8868-217148e051d5"
      },
      "source": [
        "unscaled_test_data = np.hstack((X_test,y_test.reshape(y_test.shape[0],1)))\n",
        "unscaled_y_test = (np.max(wD)*unscaled_test_data)[:,-1]\n",
        "plt.plot(unscaled_y_test)\n",
        "\n",
        "unscaled_test_data_eval = np.hstack((X_test,model.predict(X_test).reshape(y_test.shape[0],1)))\n",
        "unscaled_y_test_eval = (np.max(wD)*unscaled_test_data_eval)[:,-1]\n",
        "plt.plot(unscaled_y_test_eval)"
      ],
      "execution_count": 180,
      "outputs": [
        {
          "output_type": "execute_result",
          "data": {
            "text/plain": [
              "[<matplotlib.lines.Line2D at 0x7f305447b0b8>]"
            ]
          },
          "metadata": {
            "tags": []
          },
          "execution_count": 180
        },
        {
          "output_type": "display_data",
          "data": {
            "image/png": "[encoded data removed]",
            "text/plain": [
              "<Figure size 432x288 with 1 Axes>"
            ]
          },
          "metadata": {
            "tags": [],
            "needs_background": "light"
          }
        }
      ]
    },
    {
      "cell_type": "code",
      "metadata": {
        "id": "4M9C8Y3sGXPQ",
        "colab_type": "code",
        "colab": {
          "base_uri": "https://localhost:8080/",
          "height": 265
        },
        "outputId": "91919ee3-4647-40d3-fa8a-32dcae923b7f"
      },
      "source": [
        "#Predict for June 05 to July 7 # N = 33 \n",
        "\n",
        "data = X[-1,:].reshape(1,window_size)\n",
        "prediction = []\n",
        "\n",
        "for i in range(33):\n",
        "    pred = model.predict(data).reshape(1,1)\n",
        "    real_pred = np.max(wD)*pred[0]\n",
        "    prediction.append(real_pred)\n",
        "    new_data = [x for x in data[0,1:]]\n",
        "    new_data.append(pred[0][0])\n",
        "    data = np.asarray(new_data).reshape(1, window_size)\n",
        "\n",
        "plt.plot(np.arange(136),wD_real)\n",
        "plt.plot(np.arange(33)+136,prediction)\n",
        "plt.show()"
      ],
      "execution_count": 182,
      "outputs": [
        {
          "output_type": "display_data",
          "data": {
            "image/png": "[encoded data removed]",
            "text/plain": [
              "<Figure size 432x288 with 1 Axes>"
            ]
          },
          "metadata": {
            "tags": [],
            "needs_background": "light"
          }
        }
      ]
    },
    {
      "cell_type": "code",
      "metadata": {
        "id": "wgqFBj8iDDHK",
        "colab_type": "code",
        "colab": {
          "base_uri": "https://localhost:8080/",
          "height": 452
        },
        "outputId": "126006b3-1377-4b2f-807b-f2cd8c4d2c2c"
      },
      "source": [
        "plt.figure(figsize=(10,7))\n",
        "plt.xticks(fontsize=16)\n",
        "plt.yticks(fontsize=16)\n",
        "plt.ylabel(wD_name+' Cases', fontsize=16)\n",
        "plt.xlabel('Days from Jan 22 to July 07', fontsize=16)\n",
        "\n",
        "plt.plot(wD_real, label='confirmed (Jan 22 - June 04)')\n",
        "\n",
        "unscaled_test_data_eval = np.hstack((X,model.predict(X).reshape(X.shape[0],1)))\n",
        "unscaled_y_test_eval = (np.max(wD)*unscaled_test_data_eval)[:,-1]\n",
        "plt.plot(unscaled_y_test_eval, label='predicted (Jan 22 - June 04)')\n",
        "\n",
        "plt.plot(np.arange(33)+len(wD_real),prediction, label='predicted (June 05 - June 07)')\n",
        "plt.legend(fontsize=16)\n",
        "plt.show()"
      ],
      "execution_count": 184,
      "outputs": [
        {
          "output_type": "display_data",
          "data": {
            "image/png": "[encoded data removed]",
            "text/plain": [
              "<Figure size 720x504 with 1 Axes>"
            ]
          },
          "metadata": {
            "tags": [],
            "needs_background": "light"
          }
        }
      ]
    }
  ]
}